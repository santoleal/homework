{
  "nbformat": 4,
  "nbformat_minor": 0,
  "metadata": {
    "colab": {
      "provenance": []
    },
    "kernelspec": {
      "name": "python3",
      "display_name": "Python 3"
    },
    "language_info": {
      "name": "python"
    }
  },
  "cells": [
    {
      "cell_type": "code",
      "execution_count": 1,
      "metadata": {
        "colab": {
          "base_uri": "https://localhost:8080/"
        },
        "id": "eVcZVEvNpGof",
        "outputId": "34f9a2be-7530-439c-913a-bb502328a2af"
      },
      "outputs": [
        {
          "output_type": "stream",
          "name": "stdout",
          "text": [
            "Mounted at /drive/\n"
          ]
        }
      ],
      "source": [
        "from google.colab import drive\n",
        "drive.mount('/drive/')"
      ]
    },
    {
      "cell_type": "code",
      "source": [
        "# Para crear archivo JSON\n",
        "import json"
      ],
      "metadata": {
        "id": "nf0jVsocExac"
      },
      "execution_count": 2,
      "outputs": []
    },
    {
      "cell_type": "code",
      "source": [
        "# Enlace con archivo Colab y JSON:\n",
        "# https://drive.google.com/drive/folders/195Gc1iD0bjj43QNXoWkGqAUdQTk555QD?usp=drive_link"
      ],
      "metadata": {
        "id": "MHDqBnfpLjd2"
      },
      "execution_count": 3,
      "outputs": []
    },
    {
      "cell_type": "markdown",
      "source": [
        "_______________________\n"
      ],
      "metadata": {
        "id": "u4HmQ9QFGMKc"
      }
    },
    {
      "cell_type": "code",
      "source": [
        "# Variables globales para trabajar y rellenar\n",
        "\n",
        "usuarios_registrados = {}\n",
        "logueado = False"
      ],
      "metadata": {
        "id": "DEMR8GdKst0Z"
      },
      "execution_count": 95,
      "outputs": []
    },
    {
      "cell_type": "code",
      "source": [
        "# Función 1: Registrar usuarios\n",
        "def registrar_usuario(usuarios_registrados):\n",
        "    while True:\n",
        "      nombre = input(\"Ingrese su nombre de usuario: \").lower()\n",
        "\n",
        "      if nombre in usuarios_registrados:\n",
        "        print(\"Lo siento, ese nombre ya está ocupado\")\n",
        "        continue\n",
        "\n",
        "      clave = input(\"Ingrese contraseña: \")\n",
        "      if len(clave) < 5:\n",
        "        print(\"Lo siento, contraseña muy débil. Tiene que ser más de 5 letras y/o numeros\")\n",
        "        continue\n",
        "\n",
        "      # Se añade nuevo usuario registrado a la lista de usuarios\n",
        "      usuarios_registrados[nombre]= clave\n",
        "\n",
        "      print(\"Ok, usuario y contraseña creada\")\n",
        "\n",
        "      nuevo_usuario = {'nombre': nombre, 'clave': clave}\n",
        "\n",
        "      return f\"La cuenta creada es: {nuevo_usuario}\" # Aquí se retorna el valor del nuevo usuario tras la función"
      ],
      "metadata": {
        "id": "5l1InNpWifeb"
      },
      "execution_count": 45,
      "outputs": []
    },
    {
      "cell_type": "code",
      "source": [
        "# chequeo\n",
        "usuarios_registrados = {}"
      ],
      "metadata": {
        "id": "f9Hl1Ao7QKHb"
      },
      "execution_count": 46,
      "outputs": []
    },
    {
      "cell_type": "code",
      "source": [
        "registrar_usuario(usuarios_registrados)\n"
      ],
      "metadata": {
        "colab": {
          "base_uri": "https://localhost:8080/",
          "height": 87
        },
        "id": "kCF7PBl5UGTM",
        "outputId": "10407842-5b7f-42df-c58b-664e2dfb3fb2"
      },
      "execution_count": 47,
      "outputs": [
        {
          "output_type": "stream",
          "name": "stdout",
          "text": [
            "Ingrese su nombre de usuario: Lolo\n",
            "Ingrese contraseña: clave123455\n",
            "Ok, usuario y contraseña creada\n"
          ]
        },
        {
          "output_type": "execute_result",
          "data": {
            "text/plain": [
              "\"La cuenta creada es: {'nombre': 'lolo', 'clave': 'clave123455'}\""
            ],
            "application/vnd.google.colaboratory.intrinsic+json": {
              "type": "string"
            }
          },
          "metadata": {},
          "execution_count": 47
        }
      ]
    },
    {
      "cell_type": "code",
      "source": [
        "usuarios_registrados"
      ],
      "metadata": {
        "colab": {
          "base_uri": "https://localhost:8080/"
        },
        "id": "QaU_WkeqV0k7",
        "outputId": "5078b01f-4a90-4ad6-f7b9-dd16f9d459d6"
      },
      "execution_count": 48,
      "outputs": [
        {
          "output_type": "execute_result",
          "data": {
            "text/plain": [
              "{'lolo': 'clave123455'}"
            ]
          },
          "metadata": {},
          "execution_count": 48
        }
      ]
    },
    {
      "cell_type": "code",
      "source": [
        "registrar_usuario(usuarios_registrados)\n",
        "\n"
      ],
      "metadata": {
        "colab": {
          "base_uri": "https://localhost:8080/",
          "height": 122
        },
        "id": "jPSBUQB9S7EJ",
        "outputId": "06276733-9ce6-4948-940e-7ca60dc3daf7"
      },
      "execution_count": 49,
      "outputs": [
        {
          "output_type": "stream",
          "name": "stdout",
          "text": [
            "Ingrese su nombre de usuario: Lolo\n",
            "Lo siento, ese nombre ya está ocupado\n",
            "Ingrese su nombre de usuario: Lola\n",
            "Ingrese contraseña: clave12345\n",
            "Ok, usuario y contraseña creada\n"
          ]
        },
        {
          "output_type": "execute_result",
          "data": {
            "text/plain": [
              "\"La cuenta creada es: {'nombre': 'lola', 'clave': 'clave12345'}\""
            ],
            "application/vnd.google.colaboratory.intrinsic+json": {
              "type": "string"
            }
          },
          "metadata": {},
          "execution_count": 49
        }
      ]
    },
    {
      "cell_type": "code",
      "source": [
        "usuarios_registrados"
      ],
      "metadata": {
        "colab": {
          "base_uri": "https://localhost:8080/"
        },
        "id": "nM_isT4lV8wR",
        "outputId": "408144f3-ec0a-4a65-d0ab-d56126d88e6c"
      },
      "execution_count": 50,
      "outputs": [
        {
          "output_type": "execute_result",
          "data": {
            "text/plain": [
              "{'lolo': 'clave123455', 'lola': 'clave12345'}"
            ]
          },
          "metadata": {},
          "execution_count": 50
        }
      ]
    },
    {
      "cell_type": "code",
      "source": [
        "# Funcion 2: Consultar último registro (mala práctica el exponer los datos, pero es sólo por ejercitar)\n",
        "\n",
        "def ver_ultimoregistro(usuarios_registrados):\n",
        "    if usuarios_registrados:\n",
        "\n",
        "      # Aquí busco el último nombre y clave ingresada en el diccionario\n",
        "      ultimo_nombre = list(usuarios_registrados.keys())[-1]\n",
        "      ultima_clave = usuarios_registrados[ultimo_nombre]\n",
        "\n",
        "      print(f\"ültimo usuario en registrarse: {ultimo_nombre}, psw: {ultima_clave}...\")\n",
        "\n",
        "    else:\n",
        "        print(\"No hay ningún usuario registrado...\")"
      ],
      "metadata": {
        "id": "PRXMZZGnijIi"
      },
      "execution_count": 54,
      "outputs": []
    },
    {
      "cell_type": "code",
      "source": [
        "# chequeo\n",
        "ver_ultimoregistro(usuarios_registrados)"
      ],
      "metadata": {
        "colab": {
          "base_uri": "https://localhost:8080/"
        },
        "id": "DWzTkQpmXtnZ",
        "outputId": "cf5ca4f3-1599-42c9-d9ee-097c954308a0"
      },
      "execution_count": 55,
      "outputs": [
        {
          "output_type": "stream",
          "name": "stdout",
          "text": [
            "ültimo usuario en registrarse: lola, psw: clave12345...\n"
          ]
        }
      ]
    },
    {
      "cell_type": "code",
      "source": [
        "# Función 3: Mostrar todos los uruarios.\n",
        "\n",
        "def mostrar_usuarios(usuarios_registrados):\n",
        "  if usuarios_registrados:\n",
        "    for nombre, clave in usuarios_registrados.items():\n",
        "        print(f\"Usuario: {nombre} - Contraseña: {clave}\")\n",
        "\n",
        "  else:\n",
        "    print(\"No hay ningún usuario registrado...\")"
      ],
      "metadata": {
        "id": "HZ7xdRo0FviS"
      },
      "execution_count": 66,
      "outputs": []
    },
    {
      "cell_type": "code",
      "source": [
        "#chequeo\n",
        "mostrar_usuarios(usuarios_registrados)\n"
      ],
      "metadata": {
        "colab": {
          "base_uri": "https://localhost:8080/"
        },
        "id": "eBe6kiQUYaiu",
        "outputId": "7af7d13a-29be-4ecd-d271-82dff740aa6c"
      },
      "execution_count": 67,
      "outputs": [
        {
          "output_type": "stream",
          "name": "stdout",
          "text": [
            "Usuario: lolo - Contraseña: clave123455\n",
            "Usuario: lola - Contraseña: clave12345\n"
          ]
        }
      ]
    },
    {
      "cell_type": "code",
      "source": [
        "# Función 4: Guardar lista de usuarios creada en JSON\n",
        "\n",
        "def guardar_json(usuarios_registrados):\n",
        "    with open(\"/drive/MyDrive/DATA SCIENCE/PYTHON/Pre-entrega1-Leal/\"+\"listado_usuarios.json\", 'w') as file:\n",
        "        try:\n",
        "            guardar_json = json.dump(usuarios_registrados, file, indent = 4)\n",
        "            print(f\"Archivo JSON creado exitosamente...\")\n",
        "            return guardar_json\n",
        "        except Exception as e:\n",
        "            print(f\"Error al intentar crear el archivo JSON: {e}\")\n",
        "        finally:\n",
        "            print(\"-----------------\")"
      ],
      "metadata": {
        "id": "n2rNjPr_IUgW"
      },
      "execution_count": 69,
      "outputs": []
    },
    {
      "cell_type": "code",
      "source": [
        "# chequear\n",
        "\n",
        "guardar_json(usuarios_registrados)"
      ],
      "metadata": {
        "colab": {
          "base_uri": "https://localhost:8080/"
        },
        "id": "dm01RpNtacLs",
        "outputId": "04f3e18b-d165-4216-c3c2-31b74c9f9e9d"
      },
      "execution_count": 70,
      "outputs": [
        {
          "output_type": "stream",
          "name": "stdout",
          "text": [
            "Archivo JSON creado exitosamente...\n",
            "-----------------\n"
          ]
        }
      ]
    },
    {
      "cell_type": "code",
      "source": [
        "# Función 5 - Loguearse\n",
        "\n",
        "def loguin(usuarios_registrados):\n",
        "    intentos_usuario = 3 # Se fijan sólo 3 intentos para nombre usuario\n",
        "\n",
        "    while intentos_usuario > 0:\n",
        "      usuario = input(\"Ingrese nombre usuario: \").lower()\n",
        "      if usuario in usuarios_registrados:\n",
        "        intentos_password = 3 # Se fijan sólo 3 intentos para contraseña\n",
        "        while intentos_password > 0:\n",
        "          password = input(\"Ingrese clave: \")\n",
        "          if password == usuarios_registrados[usuario]:\n",
        "            print(\"\\n-----------------\\n\")\n",
        "            return f\"Hola, {usuario}. Acceso correcto.\"\n",
        "          else:\n",
        "            intentos_password-= 1\n",
        "            if intentos_password == 0:\n",
        "              print(\"Se agotaron todos los intentos de contraseña\")\n",
        "            else:\n",
        "              print(f\"Contraseña incorrecta. Te quedan {intentos_password} intentos\")\n",
        "        break\n",
        "\n",
        "      else:\n",
        "        intentos_usuario-=1\n",
        "        if intentos_usuario == 0:\n",
        "          print(\"Se agotaron los intentos!\")\n",
        "        else:\n",
        "          print(f\"Usuario no reconocido. Te quedan {intentos_usuario} intentos\")\n",
        "\n",
        "    return \"Chaito\""
      ],
      "metadata": {
        "id": "6VqLT2LRilYk"
      },
      "execution_count": 85,
      "outputs": []
    },
    {
      "cell_type": "code",
      "source": [
        "loguin(usuarios_registrados)"
      ],
      "metadata": {
        "colab": {
          "base_uri": "https://localhost:8080/",
          "height": 157
        },
        "id": "TEWTk071c0qD",
        "outputId": "be5f415a-b304-434b-8760-8d550eb6d14e"
      },
      "execution_count": 87,
      "outputs": [
        {
          "output_type": "stream",
          "name": "stdout",
          "text": [
            "Ingrese nombre usuario: Lolo\n",
            "Ingrese clave: clave12345\n",
            "Contraseña incorrecta. Te quedan 2 intentos\n",
            "Ingrese clave: clave123455\n",
            "\n",
            "-----------------\n",
            "\n"
          ]
        },
        {
          "output_type": "execute_result",
          "data": {
            "text/plain": [
              "'Hola, lolo. Acceso correcto.'"
            ],
            "application/vnd.google.colaboratory.intrinsic+json": {
              "type": "string"
            }
          },
          "metadata": {},
          "execution_count": 87
        }
      ]
    }
  ]
}