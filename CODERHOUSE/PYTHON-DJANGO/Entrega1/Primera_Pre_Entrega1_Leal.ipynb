{
  "nbformat": 4,
  "nbformat_minor": 0,
  "metadata": {
    "colab": {
      "provenance": [],
      "authorship_tag": "ABX9TyO448Rmt3T8KoXmz/DpG54s",
      "include_colab_link": true
    },
    "kernelspec": {
      "name": "python3",
      "display_name": "Python 3"
    },
    "language_info": {
      "name": "python"
    }
  },
  "cells": [
    {
      "cell_type": "markdown",
      "metadata": {
        "id": "view-in-github",
        "colab_type": "text"
      },
      "source": [
        "<a href=\"https://colab.research.google.com/github/santoleal/homework/blob/main/CODERHOUSE/PYTHON-DJANGO/Entrega1/Primera_Pre_Entrega1_Leal.ipynb\" target=\"_parent\"><img src=\"https://colab.research.google.com/assets/colab-badge.svg\" alt=\"Open In Colab\"/></a>"
      ]
    },
    {
      "cell_type": "code",
      "execution_count": null,
      "metadata": {
        "colab": {
          "base_uri": "https://localhost:8080/"
        },
        "id": "eVcZVEvNpGof",
        "outputId": "4cbdcbeb-d7f5-4715-e404-76a3c16ecd8d"
      },
      "outputs": [
        {
          "output_type": "stream",
          "name": "stdout",
          "text": [
            "Drive already mounted at /drive/; to attempt to forcibly remount, call drive.mount(\"/drive/\", force_remount=True).\n"
          ]
        }
      ],
      "source": [
        "from google.colab import drive\n",
        "drive.mount('/drive/')"
      ]
    },
    {
      "cell_type": "code",
      "source": [
        "# Variables globales para trabajar y rellenar\n",
        "nombre = \"\"\n",
        "logueado = False\n",
        "lista_usuarios = []"
      ],
      "metadata": {
        "id": "DEMR8GdKst0Z"
      },
      "execution_count": 1,
      "outputs": []
    },
    {
      "cell_type": "code",
      "source": [
        "# Función añadida por mi cuenta, para practicar - Menú de navegación\n",
        "def menu():\n",
        "    global nombre\n",
        "    global logueado\n",
        "    def opciones():\n",
        "         opcion = input(\"\"\"\n",
        "          Escoge alguna opción:\n",
        "          (1)- Registra nuevo usuario\n",
        "          (2)- Consulta por último usuario registrado\n",
        "          (3)- Revisa listado de usuarios\n",
        "          (4)- Ingresa con tus credenciales\n",
        "          (99) - Salir del programa\n",
        "          \"\"\")\n",
        "         return opcion\n",
        "\n",
        "    print(\"\\n---------------------------------\\n\")\n",
        "    if logueado == True:\n",
        "        print(f\"Bienvenid@, {nombre}...\")\n",
        "    else:\n",
        "        print(\"Bienvenidos a sistema de logueo... \")\n",
        "    print(\"\\n---------------------------------\\n\")\n",
        "\n",
        "    opcion_escogida = opciones()\n",
        "\n",
        "    while opcion_escogida != \"99\":\n",
        "        if opcion_escogida == \"1\":\n",
        "            #Registra nuevo usuario\n",
        "            registrar_usuario()\n",
        "            print(f\"Esta es la nueva lista de usuarios: {lista_usuarios}\")\n",
        "            volver_menu()\n",
        "\n",
        "        elif opcion_escogida == \"2\":\n",
        "            #Consulta último usuario registrado\n",
        "            ver_ultimoregistro(lista_usuarios)\n",
        "            volver_menu()\n",
        "\n",
        "        elif opcion_escogida == \"3\":\n",
        "            #Revisa listado de usuarios. Esto no se vincula a función específica, sino a una confirmación de si está logueado o no para poder acceder.\n",
        "            if (logueado == True):\n",
        "                print(lista_usuarios)\n",
        "            else:\n",
        "                print(\"Debes loguearte primero para ver toda la lista\")\n",
        "            volver_menu()\n",
        "\n",
        "        elif opcion_escogida == \"4\":\n",
        "            #Ingresa con tus credenciales\n",
        "            usuario = loguin()\n",
        "            if usuario[1] == True:\n",
        "                nombre = usuario[0]\n",
        "                logueado = usuario[1]\n",
        "            volver_menu()\n",
        "\n",
        "        else:\n",
        "            print(\"Opción no válida. Intente nuevamente.\")\n",
        "            opcion_escogida = opciones()\n",
        "\n",
        "    else:\n",
        "            print(\"\\n---------------------------------\\n\")\n",
        "            print(\"Gracias, nos vemos\") #Despedida del programa\n",
        "            print(\"\\n---------------------------------\\n\")\n"
      ],
      "metadata": {
        "id": "y8XvC77diTR-"
      },
      "execution_count": 2,
      "outputs": []
    },
    {
      "cell_type": "code",
      "source": [
        "# Función añadida - Preguntar si volver a menú principal\n",
        "def volver_menu():\n",
        "    pregunta = input(\"¿Desea volver al menú principal? S / n  : \").lower()\n",
        "    while pregunta != \"s\" and pregunta != \"n\":\n",
        "        print(\"Opción no reconocida. Intente otra vez con letra 's' o 'n' \")\n",
        "        pregunta = input(\"¿Desea volver al menú principal? S / n  : \").lower()\n",
        "    if pregunta == \"s\":\n",
        "        menu()\n",
        "    if pregunta == \"n\":\n",
        "        print(\"Ha abandonado el programa. Adios!\")\n",
        "        exit()"
      ],
      "metadata": {
        "id": "drzTEFy6ibr5"
      },
      "execution_count": 3,
      "outputs": []
    },
    {
      "cell_type": "code",
      "source": [
        "# Función 1: Registrar usuarios\n",
        "def registrar_usuario():\n",
        "    nombre = input(\"Ingrese su nombre de usuario: \")\n",
        "    nombre = nombre.lower()\n",
        "    for i in lista_usuarios:\n",
        "        while i['nombre'] == nombre:\n",
        "            print(\"Lo siento, ese nombre ya está ocupado\")\n",
        "            nombre = input(\"Ingrese su nombre de usuario: \")\n",
        "            nombre = nombre.lower()\n",
        "\n",
        "    clave = input(\"Ingrese contraseña: \")\n",
        "    while len(clave) < 5:\n",
        "        print(\"Lo siento, contraseña muy débil. Tiene que ser más de 5 letras y/o numeros\")\n",
        "        clave = input(\"Ingrese contraseña: \")\n",
        "\n",
        "    usuarios = {'nombre': nombre, 'clave': clave}\n",
        "    lista_usuarios.append(usuarios) # Se añade nuevo usuario registrado a la lista de usuarios\n",
        "\n",
        "\n",
        "    print(\"Ok, usuario y contraseña creada\")\n",
        "    print(f\"La cuenta creada es: {usuarios}\")\n",
        "\n",
        "    return lista_usuarios # Aquí se retorna el valor del nuevo usuario tras la función, y en el menú se asigna este valor a variable\n"
      ],
      "metadata": {
        "id": "5l1InNpWifeb"
      },
      "execution_count": 4,
      "outputs": []
    },
    {
      "cell_type": "code",
      "source": [
        "# Funcion 2: Consultar último registro\n",
        "\n",
        "def ver_ultimoregistro(lista_usuarios):\n",
        "    if len(lista_usuarios) > 0:\n",
        "        ultimo_registro = lista_usuarios[-1]\n",
        "        ultimo_user = list(ultimo_registro.values())[-2]\n",
        "        ultimo_pass = list(ultimo_registro.values())[-1]\n",
        "        devolver = (f\"Se acaba de inscribir: {ultimo_user}, con: {ultimo_pass}...\")\n",
        "        print(devolver)\n",
        "    else:\n",
        "        print(\"No hay ningún usuario registrado...\")"
      ],
      "metadata": {
        "id": "PRXMZZGnijIi"
      },
      "execution_count": 5,
      "outputs": []
    },
    {
      "cell_type": "code",
      "source": [
        "# Función 3 - Loguearse\n",
        "def loguin():\n",
        "    usuario = input(\"Ingrese nombre usuario: \").lower()\n",
        "    iu = 3\n",
        "    ip = 3\n",
        "    encontrado = False\n",
        "    while iu > 0 or encontrado == False:\n",
        "        for buscarusuario in lista_usuarios:\n",
        "            if buscarusuario['nombre'] == usuario:\n",
        "                encontrado = True\n",
        "                while ip > 0 and encontrado == True:\n",
        "                    password = input(\"Ingrese clave: \")\n",
        "                    if password == buscarusuario['clave']:\n",
        "                        usuario = [usuario]\n",
        "                        usuario.append(True)\n",
        "                        print(\"\\n-----------------\\n\")\n",
        "                        print(f\"Hola, {usuario[0]}. Acceso correcto.\")\n",
        "                        return usuario\n",
        "                    else:\n",
        "                        ip-= 1\n",
        "                        print(f\"Contraseña incorrecta. Te quedan {ip} intentos\")\n",
        "                if ip == 0:\n",
        "                    print(\"Se agotaron todos los intentos de contraseña. Chaito\")\n",
        "                break\n",
        "        if encontrado == True:\n",
        "            break\n",
        "        else:\n",
        "            print(f\"Usuario no reconocido. Te quedan {iu} intentos\")\n",
        "            usuario = input(\"Ingrese nombre usuario: \").lower()\n",
        "            iu-=1\n",
        "    if iu == 0:\n",
        "        print(\"Se agotaron los intentos. Adios!\")\n",
        "        return"
      ],
      "metadata": {
        "id": "6VqLT2LRilYk"
      },
      "execution_count": 6,
      "outputs": []
    },
    {
      "cell_type": "code",
      "source": [
        "menu()"
      ],
      "metadata": {
        "colab": {
          "base_uri": "https://localhost:8080/"
        },
        "id": "GGXqlYY7itSj",
        "outputId": "0ad10537-68ea-4acd-ed0a-18bf3f9be5d7"
      },
      "execution_count": 8,
      "outputs": [
        {
          "output_type": "stream",
          "name": "stdout",
          "text": [
            "\n",
            "---------------------------------\n",
            "\n",
            "Bienvenidos a sistema de logueo... \n",
            "\n",
            "---------------------------------\n",
            "\n",
            "\n",
            "          Escoge alguna opción: \n",
            "          (1)- Registra nuevo usuario\n",
            "          (2)- Consulta por último usuario registrado  \n",
            "          (3)- Revisa listado de usuarios\n",
            "          (4)- Ingresa con tus credenciales\n",
            "          (99) - Salir del programa\n",
            "          99\n",
            "\n",
            "---------------------------------\n",
            "\n",
            "Gracias, nos vemos\n",
            "\n",
            "---------------------------------\n",
            "\n"
          ]
        }
      ]
    }
  ]
}